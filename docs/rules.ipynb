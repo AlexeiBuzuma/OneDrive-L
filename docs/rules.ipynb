{
 "cells": [
  {
   "cell_type": "markdown",
   "metadata": {
    "collapsed": true
   },
   "source": [
    "# OneDrive Client business rules"
   ]
  },
  {
   "cell_type": "markdown",
   "metadata": {},
   "source": [
    "## Motivation"
   ]
  },
  {
   "cell_type": "markdown",
   "metadata": {},
   "source": [
    "The purpose of this project is automated generation and validation of business rules for the OneDrive Client project. \n",
    "Synchronization of files involves a lot of parameters and it is a relatively complex process. And because of that it is hard formulate them manually and this is why automated approach was chosen. Automated approach imrpoves correctness and completeness of formulation of the business rules."
   ]
  },
  {
   "cell_type": "markdown",
   "metadata": {},
   "source": [
    "## Introduction"
   ]
  },
  {
   "cell_type": "markdown",
   "metadata": {},
   "source": [
    "This project operates with such concepts as **conditions** and **actions**. Conditions represent input and actions represent reaction of the program. Conditions and actions comprised of variables. For example `Local file does not exist` is a condition variable. `Download remote file` is an action variable.\n",
    "Both condition and action variables could take three values: `True`, `False` and `Undefined`. `Undefined` means that the variable doesn't make sense in combination with values of other variables. For example condition variable `Remote and local files are the same` does not make sense if `Local file does not exist` is `True` and `Remote file does not exit` if `False` - we can't compare files if one of them does not exist.\n",
    "\n",
    "General structure of the rules generation is the following:\n",
    "1. Formulation of condition and action variables.\n",
    "2. Generation of all possible combinations of values of all variables (condition- and action- together).\n",
    "3. Filtering out combination that does not make sense by applying constraints.\n",
    "4. Generatino of actions.\n",
    "5. Further removal of redundancy in the resulting rules by determining such combinations of values of condition variables that always result in the same values of certain single action variables and other methods.\n",
    "6. Validation of the non-redundant rules against the \"dumb\" redundant rules.\n",
    "7. Presentation of the resulting rules."
   ]
  },
  {
   "cell_type": "markdown",
   "metadata": {},
   "source": [
    "## Imports"
   ]
  },
  {
   "cell_type": "code",
   "execution_count": 1,
   "metadata": {
    "collapsed": true
   },
   "outputs": [],
   "source": [
    "import collections\n",
    "import functools as ft\n",
    "import itertools as it\n",
    "import operator as op\n",
    "\n",
    "import dask\n",
    "import dask.dataframe\n",
    "import numpy as np\n",
    "import pandas as pd\n",
    "import progressbar\n",
    "import yaml\n",
    "from dask.diagnostics import ProgressBar\n",
    "from frozendict import frozendict\n",
    "from scipy.misc import comb"
   ]
  },
  {
   "cell_type": "markdown",
   "metadata": {},
   "source": [
    "## Common utilities"
   ]
  },
  {
   "cell_type": "code",
   "execution_count": 2,
   "metadata": {
    "collapsed": true
   },
   "outputs": [],
   "source": [
    "class Enumeration(tuple):\n",
    "    \"\"\"Homegrown enum class.\n",
    "    \n",
    "    It is useful because it could be pickled by cloudpickle which\n",
    "    is used by dask library.\n",
    "    \"\"\"\n",
    "    def __getattr__(self, name):\n",
    "        if name in self:\n",
    "            return name\n",
    "        raise AttributeError(name)"
   ]
  },
  {
   "cell_type": "code",
   "execution_count": 3,
   "metadata": {
    "collapsed": true
   },
   "outputs": [],
   "source": [
    "def safe_update(a, b):\n",
    "    \"\"\"Like dict.update but doesn't override keys.\"\"\"\n",
    "    for key, new_value in b.items():\n",
    "        value = a.setdefault(key, new_value)\n",
    "        assert value == new_value\n",
    "    return a"
   ]
  },
  {
   "cell_type": "code",
   "execution_count": 4,
   "metadata": {
    "collapsed": true
   },
   "outputs": [],
   "source": [
    "def remove_supersets(sets):\n",
    "    \"\"\"Remove sets from 'sets' that are supersets of any other sets.\"\"\"\n",
    "    sets = set(map(frozenset, sets))\n",
    "    filtered = collections.deque()\n",
    "    for a in sets:\n",
    "        for b in sets:\n",
    "            if a > b:\n",
    "                break\n",
    "        else:\n",
    "            filtered.append(a)\n",
    "    return filtered"
   ]
  },
  {
   "cell_type": "code",
   "execution_count": 5,
   "metadata": {
    "collapsed": true
   },
   "outputs": [],
   "source": [
    "def all_combinations(values):\n",
    "    \"\"\"All possible combinations of all lengts for `values`.\"\"\"\n",
    "    return it.chain.from_iterable(\n",
    "        it.combinations(values, i)\n",
    "        for i in range(1, len(values) + 1)\n",
    "    )"
   ]
  },
  {
   "cell_type": "code",
   "execution_count": 6,
   "metadata": {
    "collapsed": true
   },
   "outputs": [],
   "source": [
    "def ncombinations(n):\n",
    "    \"\"\"Number of all possible combinations of all lengths for set with length `n`.\"\"\"\n",
    "    return sum(comb(n, r, exact=True) for r in range(1, n + 1))"
   ]
  },
  {
   "cell_type": "markdown",
   "metadata": {},
   "source": [
    "Values that condition and action variables could take."
   ]
  },
  {
   "cell_type": "code",
   "execution_count": 7,
   "metadata": {
    "collapsed": true
   },
   "outputs": [],
   "source": [
    "Value = Enumeration(['TRUE', 'FALSE', 'UNDEFINED'])\n",
    "\n",
    "\n",
    "_VALUE_PYTHON_MAP = {\n",
    "    Value.TRUE: True,\n",
    "    Value.FALSE: False,\n",
    "    Value.UNDEFINED: None\n",
    "}\n",
    "\n",
    "_PYTHON_VALUE_MAP = {\n",
    "    True: Value.TRUE,\n",
    "    False: Value.FALSE,\n",
    "    None: Value.UNDEFINED\n",
    "}\n",
    "\n",
    "def value_to_python(value):\n",
    "    return _VALUE_PYTHON_MAP[value]\n",
    "\n",
    "def value_from_python(value):\n",
    "    return _PYTHON_VALUE_MAP[value]"
   ]
  },
  {
   "cell_type": "markdown",
   "metadata": {},
   "source": [
    "## Definition of conditions and actions."
   ]
  },
  {
   "cell_type": "markdown",
   "metadata": {},
   "source": [
    "### Conditions"
   ]
  },
  {
   "cell_type": "markdown",
   "metadata": {},
   "source": [
    "Conditions, that serve as input data for the program.\n",
    "\n",
    "Each condition might be `True`, `False` or `Undefined`. `Undefined` means that the condition doesn't make sense in combination with the other conditions."
   ]
  },
  {
   "cell_type": "code",
   "execution_count": 8,
   "metadata": {
    "collapsed": true
   },
   "outputs": [],
   "source": [
    "Condition = Enumeration([\n",
    "    'LOCAL_FILE_CHANGED',\n",
    "    'REMOTE_FILE_CHANGED',\n",
    "    'FILES_CONTENT_IS_SAME',\n",
    "    'FILES_METADATA_IS_SAME',\n",
    "    'LOCAL_FILE_DOES_NOT_EXIST',\n",
    "    'REMOTE_FILE_DOES_NOT_EXIST',\n",
    "    # One or more copies (matched by content) exist on the opposide side.\n",
    "    'LOCAL_COPIES_DO_EXIST',\n",
    "    'REMOTE_COPIES_DO_EXIST',\n",
    "    'LOCAL_COPY_COUNTERPART_DOES_NOT_EXIST',\n",
    "    'REMOTE_COPY_COUNTERPART_DOES_NOT_EXIST',\n",
    "    'LOCAL_COPY_METADATA_IS_SAME',\n",
    "    'REMOTE_COPY_METADATA_IS_SAME'\n",
    "])"
   ]
  },
  {
   "cell_type": "code",
   "execution_count": 9,
   "metadata": {
    "collapsed": true
   },
   "outputs": [],
   "source": [
    "class Constraints:\n",
    "    \"\"\"Defines constraints - functions that check a single rule for validity.\n",
    "    \n",
    "    These functions are supposed to be applied to conditions sequentially.\n",
    "    \"\"\"\n",
    "    @staticmethod\n",
    "    def base_conditions(conditions):\n",
    "        \"\"\"Should be always defined.\"\"\"\n",
    "        assert all(\n",
    "            e in conditions for e in\n",
    "            [Condition.LOCAL_FILE_CHANGED,\n",
    "             Condition.REMOTE_FILE_CHANGED,\n",
    "             Condition.LOCAL_FILE_DOES_NOT_EXIST,\n",
    "             Condition.REMOTE_FILE_DOES_NOT_EXIST]\n",
    "        )\n",
    "\n",
    "    @staticmethod\n",
    "    def something_should_be_changed(conditions):\n",
    "        \"\"\"Either the local or the remote file should be changed.\"\"\"\n",
    "        assert (\n",
    "            conditions.get(Condition.LOCAL_FILE_CHANGED, False) or\n",
    "            conditions.get(Condition.REMOTE_FILE_CHANGED, False)\n",
    "        )\n",
    "\n",
    "    @staticmethod\n",
    "    def if_local_file_does_exist_remote_copies_existence_must_be_defined(\n",
    "        conditions\n",
    "    ):\n",
    "        \"\"\"If the local file does exist, existence of remote copies\n",
    "        can't be undefined.\n",
    "        \"\"\"\n",
    "        if conditions.get(Condition.LOCAL_FILE_DOES_NOT_EXIST) is False:\n",
    "            assert Condition.REMOTE_COPIES_DO_EXIST in conditions\n",
    "\n",
    "    @staticmethod\n",
    "    def if_remote_file_does_exist_local_copies_existence_must_be_defined(\n",
    "        conditions\n",
    "    ):\n",
    "        \"\"\"If the remote file does exist, existence of local copies\n",
    "        can't be undefined.\n",
    "        \"\"\"\n",
    "        if conditions.get(Condition.REMOTE_FILE_DOES_NOT_EXIST) is False:\n",
    "            assert Condition.LOCAL_COPIES_DO_EXIST in conditions\n",
    "\n",
    "    @staticmethod\n",
    "    def if_local_file_does_not_exist_remote_copies_are_not_possible(conditions):\n",
    "        \"\"\"If the local file does not exist, remote copies can't\n",
    "        exist.\n",
    "        \"\"\"\n",
    "        if conditions.get(Condition.LOCAL_FILE_DOES_NOT_EXIST) is True:\n",
    "            assert Condition.REMOTE_COPIES_DO_EXIST not in conditions\n",
    "\n",
    "    @staticmethod\n",
    "    def if_remote_file_does_not_exist_local_copies_are_not_possible(\n",
    "        conditions\n",
    "    ):\n",
    "        \"\"\"If the remote file does not exist, local copies can't\n",
    "        exist.\n",
    "        \"\"\"\n",
    "        if conditions.get(Condition.REMOTE_FILE_DOES_NOT_EXIST) is True:\n",
    "            assert Condition.LOCAL_COPIES_DO_EXIST not in conditions\n",
    "\n",
    "    @staticmethod\n",
    "    def if_local_copies_do_not_exist_associated_conditions_are_impossible(\n",
    "        conditions\n",
    "    ):\n",
    "        \"\"\"If the local copies do not exist, the other conditions, \n",
    "        associated with them, do not make sense.\n",
    "        \"\"\"\n",
    "        if (conditions.get(Condition.LOCAL_COPIES_DO_EXIST) in {None, False}):\n",
    "            assert (\n",
    "                Condition.LOCAL_COPY_COUNTERPART_DOES_NOT_EXIST not in\n",
    "                conditions and\n",
    "                Condition.LOCAL_COPY_METADATA_IS_SAME not in conditions\n",
    "            )\n",
    "\n",
    "    @staticmethod\n",
    "    def if_remote_copies_do_not_exist_associated_conditions_are_impossible(\n",
    "        conditions\n",
    "    ):\n",
    "        \"\"\"If remote copies do not exist, the other conditions, \n",
    "        associated with them, do not make sense.\n",
    "        \"\"\"\n",
    "        if conditions.get(Condition.REMOTE_COPIES_DO_EXIST) in {None, False}:\n",
    "            assert (\n",
    "                Condition.REMOTE_COPY_COUNTERPART_DOES_NOT_EXIST\n",
    "                not in conditions and\n",
    "                Condition.REMOTE_COPY_METADATA_IS_SAME not in conditions\n",
    "            )\n",
    "\n",
    "    @staticmethod\n",
    "    def if_local_copies_do_exist_associated_conditions_must_be_defined(\n",
    "        conditions\n",
    "    ):\n",
    "        \"\"\"If the local copies do exist, the other conditions, \n",
    "        associated with them, must be defined.\n",
    "        \"\"\"\n",
    "        if conditions.get(Condition.LOCAL_COPIES_DO_EXIST):\n",
    "            assert Condition.LOCAL_COPY_COUNTERPART_DOES_NOT_EXIST in conditions\n",
    "            assert Condition.LOCAL_COPY_METADATA_IS_SAME in conditions\n",
    "\n",
    "    @staticmethod\n",
    "    def if_remote_copies_do_exist_associated_conditions_must_be_defined(\n",
    "        conditions\n",
    "    ):\n",
    "        \"\"\"If the remote copies do exist, the other conditions, \n",
    "        associated with them, must be defined.\n",
    "        \"\"\"\n",
    "        if conditions.get(Condition.REMOTE_COPIES_DO_EXIST):\n",
    "            assert Condition.REMOTE_COPY_COUNTERPART_DOES_NOT_EXIST \\\n",
    "                   in conditions\n",
    "            assert Condition.REMOTE_COPY_METADATA_IS_SAME in conditions\n",
    "\n",
    "    @staticmethod\n",
    "    def if_file_does_not_exist_or_undefined_comparison_is_impossible(\n",
    "        conditions\n",
    "    ):\n",
    "        \"\"\"The remote and the local files could only be compared in case \n",
    "        if they are both exist.\n",
    "        \"\"\"\n",
    "        if (conditions.get(Condition.LOCAL_FILE_DOES_NOT_EXIST) or\n",
    "            conditions.get(Condition.REMOTE_FILE_DOES_NOT_EXIST)):\n",
    "            assert (\n",
    "                Condition.FILES_CONTENT_IS_SAME not in conditions and\n",
    "                Condition.FILES_METADATA_IS_SAME not in conditions\n",
    "            )\n",
    "\n",
    "    @staticmethod\n",
    "    def if_both_files_do_exist_comparison_required(conditions):\n",
    "        \"\"\"If the remote and the local files exist, the comparison\n",
    "        info must be present.\n",
    "        \"\"\"\n",
    "        if (conditions.get(Condition.LOCAL_FILE_DOES_NOT_EXIST) is False and\n",
    "            conditions.get(Condition.REMOTE_FILE_DOES_NOT_EXIST) is False):\n",
    "            assert Condition.FILES_CONTENT_IS_SAME in conditions\n",
    "            if conditions.get(Condition.FILES_CONTENT_IS_SAME) is False:\n",
    "                assert conditions.get(Condition.FILES_METADATA_IS_SAME) is False\n",
    "            elif conditions.get(Condition.FILES_CONTENT_IS_SAME) is True:\n",
    "                assert Condition.FILES_METADATA_IS_SAME in conditions"
   ]
  },
  {
   "cell_type": "code",
   "execution_count": 10,
   "metadata": {
    "collapsed": true
   },
   "outputs": [],
   "source": [
    "CONSTRAINTS = [getattr(Constraints, e) for e in Constraints.__dict__\n",
    "               if not e.startswith('_') and callable(getattr(Constraints, e))]"
   ]
  },
  {
   "cell_type": "markdown",
   "metadata": {},
   "source": [
    "### Actions"
   ]
  },
  {
   "cell_type": "markdown",
   "metadata": {},
   "source": [
    "Actions represent reaction of the program on the combination of conditions with certain values."
   ]
  },
  {
   "cell_type": "code",
   "execution_count": 11,
   "metadata": {
    "collapsed": true
   },
   "outputs": [],
   "source": [
    "Action = Enumeration([\n",
    "    'DOWNLOAD_REMOTE_FILE',\n",
    "    'UPLOAD_LOCAL_FILE',\n",
    "    'DELETE_REMOTE_FILE',\n",
    "    'DELETE_LOCAL_FILE',\n",
    "    'UPDATE_LOCAL_FILE_METADATA',\n",
    "    'UPDATE_REMOTE_FILE_METADATA',\n",
    "    'RENAME_LOCAL_FILE',\n",
    "    'COPY_LOCAL_FILE',\n",
    "    'COPY_REMOTE_FILE',\n",
    "    'MOVE_LOCAL_FILE',\n",
    "    'MOVE_REMOTE_FILE',\n",
    "    'DO_NOTHING'\n",
    "])"
   ]
  },
  {
   "cell_type": "code",
   "execution_count": 12,
   "metadata": {
    "collapsed": true
   },
   "outputs": [],
   "source": [
    "class Actions:\n",
    "    \"\"\"Defines functions that fill actions based on conditions.\n",
    "    \n",
    "    The functions are supposed to applied to the rules in round-robin fashion \n",
    "    until nothing is changed.\n",
    "    \"\"\"\n",
    "    @staticmethod\n",
    "    def _is_only_local_file_changed(rule):\n",
    "        return (\n",
    "            rule.get(Condition.LOCAL_FILE_CHANGED, False) and\n",
    "            not rule.get(Condition.REMOTE_FILE_CHANGED, False)\n",
    "        )\n",
    "    \n",
    "    @staticmethod\n",
    "    def _is_only_remote_file_changed(rule):\n",
    "        return (\n",
    "            not rule.get(Condition.LOCAL_FILE_CHANGED, False) and\n",
    "            rule.get(Condition.REMOTE_FILE_CHANGED, False)\n",
    "        )\n",
    "    \n",
    "    @staticmethod\n",
    "    def _are_both_files_changed(rule):\n",
    "        return (\n",
    "            rule.get(Condition.LOCAL_FILE_CHANGED, False) and\n",
    "            rule.get(Condition.REMOTE_FILE_CHANGED, False)\n",
    "        )\n",
    "    \n",
    "    @staticmethod\n",
    "    def _make_other_undefined(actions):\n",
    "        for action in Action:\n",
    "            if action not in actions:\n",
    "                actions[action] = None\n",
    "        return actions\n",
    "    \n",
    "    @staticmethod\n",
    "    def _get_actions(rule):\n",
    "        return {\n",
    "            a: rule[a] for a in Action if a in rule\n",
    "        }\n",
    "    \n",
    "    @staticmethod\n",
    "    def _make_other_false_except_do_nothing(actions):\n",
    "        for action in Action:\n",
    "            if (action in actions) or (action is Action.DO_NOTHING):\n",
    "                continue\n",
    "            actions[action] = False\n",
    "        return actions\n",
    "    \n",
    "    @classmethod\n",
    "    def _download(cls, rule):\n",
    "        actions = {}\n",
    "        \n",
    "        assert not rule.get(Condition.FILES_CONTENT_IS_SAME)\n",
    "        assert rule.get(Condition.REMOTE_FILE_DOES_NOT_EXIST) is False\n",
    "        assert rule.get(Condition.LOCAL_FILE_DOES_NOT_EXIST) is not None\n",
    "        assert rule.get(Condition.LOCAL_COPIES_DO_EXIST) is not None\n",
    "        \n",
    "        if rule.get(Condition.LOCAL_COPIES_DO_EXIST):\n",
    "            assert rule.get(Condition.LOCAL_COPY_COUNTERPART_DOES_NOT_EXIST) is not None\n",
    "            if rule.get(Condition.LOCAL_COPY_COUNTERPART_DOES_NOT_EXIST) is True:\n",
    "                actions[Action.MOVE_LOCAL_FILE] = True\n",
    "                actions[Action.COPY_LOCAL_FILE] = None\n",
    "            elif rule.get(Condition.LOCAL_COPY_COUNTERPART_DOES_NOT_EXIST) is False:\n",
    "                actions[Action.COPY_LOCAL_FILE] = True\n",
    "                actions[Action.MOVE_LOCAL_FILE] = None\n",
    "\n",
    "            assert rule.get(Condition.LOCAL_COPY_METADATA_IS_SAME) is not None\n",
    "            if rule.get(Condition.LOCAL_COPY_METADATA_IS_SAME) is False:\n",
    "                actions[Action.UPDATE_LOCAL_FILE_METADATA] = True\n",
    "        elif rule.get(Condition.LOCAL_COPIES_DO_EXIST) is False:\n",
    "            actions[Action.DOWNLOAD_REMOTE_FILE] = True\n",
    "            \n",
    "            if rule.get(Condition.FILES_METADATA_IS_SAME) is False:\n",
    "                assert rule.get(Condition.LOCAL_FILE_DOES_NOT_EXIST) is False\n",
    "                actions[Action.UPDATE_LOCAL_FILE_METADATA] = True\n",
    "                    \n",
    "        return actions\n",
    "                \n",
    "    @classmethod\n",
    "    def _upload(cls, rule):\n",
    "        actions = {}\n",
    "        \n",
    "        assert not rule.get(Condition.FILES_CONTENT_IS_SAME)\n",
    "        assert rule.get(Condition.LOCAL_FILE_DOES_NOT_EXIST) is False\n",
    "        assert rule.get(Condition.REMOTE_FILE_DOES_NOT_EXIST) is not None\n",
    "        assert rule.get(Condition.REMOTE_COPIES_DO_EXIST) is not None\n",
    "        \n",
    "        if rule.get(Condition.REMOTE_COPIES_DO_EXIST):\n",
    "            assert rule.get(Condition.REMOTE_COPY_COUNTERPART_DOES_NOT_EXIST) is not None\n",
    "            if rule.get(Condition.REMOTE_COPY_COUNTERPART_DOES_NOT_EXIST) is True:\n",
    "                actions[Action.MOVE_REMOTE_FILE] = True\n",
    "                actions[Action.COPY_REMOTE_FILE] = None\n",
    "            elif rule.get(Condition.REMOTE_COPY_COUNTERPART_DOES_NOT_EXIST) is False:\n",
    "                actions[Action.COPY_REMOTE_FILE] = True\n",
    "                actions[Action.MOVE_REMOTE_FILE] = None\n",
    "\n",
    "            assert rule.get(Condition.REMOTE_COPY_METADATA_IS_SAME) is not None\n",
    "            if rule.get(Condition.REMOTE_COPY_METADATA_IS_SAME) is False:\n",
    "                actions[Action.UPDATE_REMOTE_FILE_METADATA] = True\n",
    "            \n",
    "        elif rule.get(Condition.REMOTE_COPIES_DO_EXIST) is False:\n",
    "            actions[Action.UPLOAD_LOCAL_FILE] = True\n",
    "            \n",
    "            if rule.get(Condition.FILES_METADATA_IS_SAME) is False:\n",
    "                assert rule.get(Condition.REMOTE_FILE_DOES_NOT_EXIST) is False\n",
    "                actions[Action.UPDATE_REMOTE_FILE_METADATA] = True\n",
    "            \n",
    "        return actions\n",
    "                \n",
    "    @staticmethod\n",
    "    def if_files_are_same_do_nothing(rule):\n",
    "        if (rule.get(Condition.FILES_CONTENT_IS_SAME, False) and \n",
    "            rule.get(Condition.FILES_METADATA_IS_SAME, False)):\n",
    "            return {\n",
    "                Action.DO_NOTHING: True\n",
    "            }\n",
    "        \n",
    "    @staticmethod\n",
    "    def if_files_do_not_exist_do_nothing(rule):\n",
    "        if (rule.get(Condition.LOCAL_FILE_DOES_NOT_EXIST, False) and \n",
    "            rule.get(Condition.REMOTE_FILE_DOES_NOT_EXIST, False)):\n",
    "            return {\n",
    "                Action.DO_NOTHING: True\n",
    "            }\n",
    "            \n",
    "    @classmethod\n",
    "    def if_do_nothing_other_actions_undefined(cls, rule):\n",
    "        if rule.get(Action.DO_NOTHING, False):\n",
    "            assert {v for k, v in cls._get_actions(rule).items() \n",
    "                    if k != Action.DO_NOTHING} <= {None}\n",
    "            return {a: None for a in Action if a != Action.DO_NOTHING}\n",
    "        \n",
    "    @staticmethod\n",
    "    def if_some_action_is_defined_do_nothing_impossible(rule):\n",
    "        if any(rule.get(a) is not None for a in Action if a is not Action.DO_NOTHING):\n",
    "            assert rule.get(Action.DO_NOTHING) is None\n",
    "            return {Action.DO_NOTHING: None}\n",
    "        \n",
    "    @staticmethod\n",
    "    def if_copy_file_then_move_file_is_impossible(rule):\n",
    "        actions = {}\n",
    "        if rule.get(Action.COPY_LOCAL_FILE):\n",
    "            assert rule.get(Action.MOVE_LOCAL_FILE) is None\n",
    "            actions[Action.MOVE_LOCAL_FILE] = None\n",
    "        elif rule.get(Action.MOVE_LOCAL_FILE):\n",
    "            assert rule.get(Action.COPY_LOCAL_FILE) is None\n",
    "            actions[Action.COPY_LOCAL_FILE] = None\n",
    "            \n",
    "        if rule.get(Action.COPY_REMOTE_FILE):\n",
    "            assert rule.get(Action.MOVE_REMOTE_FILE) is None\n",
    "            actions[Action.MOVE_REMOTE_FILE] = None\n",
    "        elif rule.get(Action.MOVE_REMOTE_FILE):\n",
    "            assert rule.get(Action.COPY_REMOTE_FILE) is None\n",
    "            actions[Action.COPY_REMOTE_FILE] = None\n",
    "\n",
    "        return actions\n",
    "    \n",
    "    def rename_rules(rule):\n",
    "        if (rule.get(Condition.LOCAL_FILE_CHANGED) is True and\n",
    "            rule.get(Condition.REMOTE_FILE_CHANGED) is True and\n",
    "            rule.get(Condition.LOCAL_FILE_DOES_NOT_EXIST) is False and\n",
    "            rule.get(Condition.FILES_CONTENT_IS_SAME) is False and\n",
    "            rule.get(Action.RENAME_LOCAL_FILE is not None)):\n",
    "            assert rule.get(Action.RENAME_LOCAL_FILE) is True\n",
    "         \n",
    "    @classmethod\n",
    "    def sync_logic(cls, rule):\n",
    "        actions = {}\n",
    "        assert rule.get(Condition.LOCAL_FILE_CHANGED) or rule.get(Condition.REMOTE_FILE_CHANGED)\n",
    "        assert rule.get(Condition.LOCAL_FILE_DOES_NOT_EXIST) is not None\n",
    "        assert rule.get(Condition.REMOTE_FILE_DOES_NOT_EXIST) is not None\n",
    "        \n",
    "        if (rule.get(Condition.LOCAL_FILE_DOES_NOT_EXIST) and \n",
    "            rule.get(Condition.REMOTE_FILE_DOES_NOT_EXIST)):\n",
    "            actions[Action.DO_NOTHING] = True\n",
    "            return actions\n",
    "        elif rule.get(Condition.FILES_CONTENT_IS_SAME):\n",
    "            assert (\n",
    "                rule.get(Condition.LOCAL_FILE_DOES_NOT_EXIST) is False and\n",
    "                rule.get(Condition.REMOTE_FILE_DOES_NOT_EXIST) is False\n",
    "            )\n",
    "            \n",
    "            if rule.get(Condition.FILES_METADATA_IS_SAME):\n",
    "                actions[Action.DO_NOTHING] = True\n",
    "                return actions\n",
    "            \n",
    "            actions[Action.DOWNLOAD_REMOTE_FILE] = False\n",
    "            actions[Action.UPLOAD_LOCAL_FILE] = False\n",
    "            actions[Action.DELETE_REMOTE_FILE] = False\n",
    "            actions[Action.DELETE_LOCAL_FILE] = False\n",
    "            actions[Action.COPY_LOCAL_FILE] = False\n",
    "            actions[Action.COPY_REMOTE_FILE] = False\n",
    "            actions[Action.MOVE_LOCAL_FILE] = False\n",
    "            actions[Action.MOVE_REMOTE_FILE] = False\n",
    "            actions[Action.RENAME_LOCAL_FILE] = False\n",
    "            \n",
    "            if (rule.get(Condition.LOCAL_FILE_CHANGED) and\n",
    "                rule.get(Condition.REMOTE_FILE_CHANGED)):\n",
    "                actions[Action.RENAME_LOCAL_FILE] = True\n",
    "                actions[Action.COPY_LOCAL_FILE] = True\n",
    "                actions[Action.MOVE_LOCAL_FILE] = None\n",
    "                actions[Action.UPDATE_LOCAL_FILE_METADATA] = True\n",
    "                actions[Action.UPDATE_REMOTE_FILE_METADATA] = False\n",
    "                return actions\n",
    "            elif rule.get(Condition.LOCAL_FILE_CHANGED):\n",
    "                actions[Action.UPDATE_REMOTE_FILE_METADATA] = True\n",
    "                actions[Action.UPDATE_LOCAL_FILE_METADATA] = False\n",
    "                return actions\n",
    "            elif rule.get(Condition.REMOTE_FILE_CHANGED):\n",
    "                actions[Action.UPDATE_LOCAL_FILE_METADATA] = True\n",
    "                actions[Action.UPDATE_REMOTE_FILE_METADATA] = False\n",
    "                return actions\n",
    "        elif (\n",
    "            rule.get(Condition.LOCAL_FILE_CHANGED) and \n",
    "            rule.get(Condition.REMOTE_FILE_CHANGED) \n",
    "        ):\n",
    "            if rule.get(Condition.LOCAL_FILE_DOES_NOT_EXIST) is False:\n",
    "                actions[Action.RENAME_LOCAL_FILE] = True\n",
    "                \n",
    "            assert rule.get(Condition.REMOTE_FILE_DOES_NOT_EXIST) is not None\n",
    "            assert rule.get(Condition.LOCAL_FILE_DOES_NOT_EXIST) is not None\n",
    "            if rule.get(Condition.REMOTE_FILE_DOES_NOT_EXIST) is False:\n",
    "                actions.update(cls._download(rule))\n",
    "            cls._make_other_false_except_do_nothing(actions)\n",
    "        elif rule.get(Condition.LOCAL_FILE_CHANGED):\n",
    "            if (rule.get(Condition.LOCAL_FILE_DOES_NOT_EXIST) and \n",
    "                rule.get(Condition.REMOTE_FILE_DOES_NOT_EXIST) is False):\n",
    "                actions[Action.DELETE_REMOTE_FILE] = True\n",
    "            else:\n",
    "                actions[Action.DELETE_REMOTE_FILE] = False\n",
    "                actions.update(cls._upload(rule))\n",
    "            cls._make_other_false_except_do_nothing(actions)\n",
    "        elif rule.get(Condition.REMOTE_FILE_CHANGED):\n",
    "            if (rule.get(Condition.REMOTE_FILE_DOES_NOT_EXIST) and\n",
    "                rule.get(Condition.LOCAL_FILE_DOES_NOT_EXIST) is False):\n",
    "                actions[Action.DELETE_LOCAL_FILE] = True\n",
    "            else:\n",
    "                actions[Action.DELETE_LOCAL_FILE] = False\n",
    "                actions.update(cls._download(rule))\n",
    "            cls._make_other_false_except_do_nothing(actions)\n",
    "        return actions"
   ]
  },
  {
   "cell_type": "code",
   "execution_count": 13,
   "metadata": {
    "collapsed": true
   },
   "outputs": [],
   "source": [
    "ACTIONS = [getattr(Actions, e) for e in Actions.__dict__\n",
    "           if not e.startswith('_') and callable(getattr(Actions, e))]"
   ]
  },
  {
   "cell_type": "markdown",
   "metadata": {},
   "source": [
    "## All possible conditions."
   ]
  },
  {
   "cell_type": "code",
   "execution_count": 14,
   "metadata": {},
   "outputs": [
    {
     "data": {
      "text/html": [
       "<div>\n",
       "<style>\n",
       "    .dataframe thead tr:only-child th {\n",
       "        text-align: right;\n",
       "    }\n",
       "\n",
       "    .dataframe thead th {\n",
       "        text-align: left;\n",
       "    }\n",
       "\n",
       "    .dataframe tbody tr th {\n",
       "        vertical-align: top;\n",
       "    }\n",
       "</style>\n",
       "<table border=\"1\" class=\"dataframe\">\n",
       "  <thead>\n",
       "    <tr style=\"text-align: right;\">\n",
       "      <th></th>\n",
       "      <th>LOCAL_FILE_CHANGED</th>\n",
       "      <th>REMOTE_FILE_CHANGED</th>\n",
       "      <th>FILES_CONTENT_IS_SAME</th>\n",
       "      <th>FILES_METADATA_IS_SAME</th>\n",
       "      <th>LOCAL_FILE_DOES_NOT_EXIST</th>\n",
       "      <th>REMOTE_FILE_DOES_NOT_EXIST</th>\n",
       "      <th>LOCAL_COPIES_DO_EXIST</th>\n",
       "      <th>REMOTE_COPIES_DO_EXIST</th>\n",
       "      <th>LOCAL_COPY_COUNTERPART_DOES_NOT_EXIST</th>\n",
       "      <th>REMOTE_COPY_COUNTERPART_DOES_NOT_EXIST</th>\n",
       "      <th>LOCAL_COPY_METADATA_IS_SAME</th>\n",
       "      <th>REMOTE_COPY_METADATA_IS_SAME</th>\n",
       "    </tr>\n",
       "  </thead>\n",
       "  <tbody>\n",
       "    <tr>\n",
       "      <th>count</th>\n",
       "      <td>531441</td>\n",
       "      <td>531441</td>\n",
       "      <td>531441</td>\n",
       "      <td>531441</td>\n",
       "      <td>531441</td>\n",
       "      <td>531441</td>\n",
       "      <td>531441</td>\n",
       "      <td>531441</td>\n",
       "      <td>531441</td>\n",
       "      <td>531441</td>\n",
       "      <td>531441</td>\n",
       "      <td>531441</td>\n",
       "    </tr>\n",
       "    <tr>\n",
       "      <th>unique</th>\n",
       "      <td>3</td>\n",
       "      <td>3</td>\n",
       "      <td>3</td>\n",
       "      <td>3</td>\n",
       "      <td>3</td>\n",
       "      <td>3</td>\n",
       "      <td>3</td>\n",
       "      <td>3</td>\n",
       "      <td>3</td>\n",
       "      <td>3</td>\n",
       "      <td>3</td>\n",
       "      <td>3</td>\n",
       "    </tr>\n",
       "    <tr>\n",
       "      <th>top</th>\n",
       "      <td>TRUE</td>\n",
       "      <td>TRUE</td>\n",
       "      <td>TRUE</td>\n",
       "      <td>TRUE</td>\n",
       "      <td>TRUE</td>\n",
       "      <td>TRUE</td>\n",
       "      <td>TRUE</td>\n",
       "      <td>TRUE</td>\n",
       "      <td>TRUE</td>\n",
       "      <td>TRUE</td>\n",
       "      <td>TRUE</td>\n",
       "      <td>TRUE</td>\n",
       "    </tr>\n",
       "    <tr>\n",
       "      <th>freq</th>\n",
       "      <td>177147</td>\n",
       "      <td>177147</td>\n",
       "      <td>177147</td>\n",
       "      <td>177147</td>\n",
       "      <td>177147</td>\n",
       "      <td>177147</td>\n",
       "      <td>177147</td>\n",
       "      <td>177147</td>\n",
       "      <td>177147</td>\n",
       "      <td>177147</td>\n",
       "      <td>177147</td>\n",
       "      <td>177147</td>\n",
       "    </tr>\n",
       "  </tbody>\n",
       "</table>\n",
       "</div>"
      ],
      "text/plain": [
       "       LOCAL_FILE_CHANGED REMOTE_FILE_CHANGED FILES_CONTENT_IS_SAME  \\\n",
       "count              531441              531441                531441   \n",
       "unique                  3                   3                     3   \n",
       "top                  TRUE                TRUE                  TRUE   \n",
       "freq               177147              177147                177147   \n",
       "\n",
       "       FILES_METADATA_IS_SAME LOCAL_FILE_DOES_NOT_EXIST  \\\n",
       "count                  531441                    531441   \n",
       "unique                      3                         3   \n",
       "top                      TRUE                      TRUE   \n",
       "freq                   177147                    177147   \n",
       "\n",
       "       REMOTE_FILE_DOES_NOT_EXIST LOCAL_COPIES_DO_EXIST  \\\n",
       "count                      531441                531441   \n",
       "unique                          3                     3   \n",
       "top                          TRUE                  TRUE   \n",
       "freq                       177147                177147   \n",
       "\n",
       "       REMOTE_COPIES_DO_EXIST LOCAL_COPY_COUNTERPART_DOES_NOT_EXIST  \\\n",
       "count                  531441                                531441   \n",
       "unique                      3                                     3   \n",
       "top                      TRUE                                  TRUE   \n",
       "freq                   177147                                177147   \n",
       "\n",
       "       REMOTE_COPY_COUNTERPART_DOES_NOT_EXIST LOCAL_COPY_METADATA_IS_SAME  \\\n",
       "count                                  531441                      531441   \n",
       "unique                                      3                           3   \n",
       "top                                      TRUE                        TRUE   \n",
       "freq                                   177147                      177147   \n",
       "\n",
       "       REMOTE_COPY_METADATA_IS_SAME  \n",
       "count                        531441  \n",
       "unique                            3  \n",
       "top                            TRUE  \n",
       "freq                         177147  "
      ]
     },
     "execution_count": 14,
     "metadata": {},
     "output_type": "execute_result"
    }
   ],
   "source": [
    "possible_conditions = pd.DataFrame()\n",
    "\n",
    "for condition in Condition:\n",
    "    values = pd.DataFrame({condition: list(Value)}, np.zeros(len(Value), np.int8))\n",
    "    possible_conditions = possible_conditions.merge(values, right_index=True, left_index=True, how='outer')\n",
    "\n",
    "possible_conditions.reset_index(inplace=True, drop=True)\n",
    "possible_conditions.describe()"
   ]
  },
  {
   "cell_type": "markdown",
   "metadata": {},
   "source": [
    "## Validation of the rules using the constraints"
   ]
  },
  {
   "cell_type": "code",
   "execution_count": 15,
   "metadata": {
    "scrolled": true
   },
   "outputs": [
    {
     "name": "stdout",
     "output_type": "stream",
     "text": [
      "[########################################] | 100% Completed | 21.5s\n"
     ]
    },
    {
     "data": {
      "text/html": [
       "<div>\n",
       "<style>\n",
       "    .dataframe thead tr:only-child th {\n",
       "        text-align: right;\n",
       "    }\n",
       "\n",
       "    .dataframe thead th {\n",
       "        text-align: left;\n",
       "    }\n",
       "\n",
       "    .dataframe tbody tr th {\n",
       "        vertical-align: top;\n",
       "    }\n",
       "</style>\n",
       "<table border=\"1\" class=\"dataframe\">\n",
       "  <thead>\n",
       "    <tr style=\"text-align: right;\">\n",
       "      <th></th>\n",
       "      <th>LOCAL_FILE_CHANGED</th>\n",
       "      <th>REMOTE_FILE_CHANGED</th>\n",
       "      <th>FILES_CONTENT_IS_SAME</th>\n",
       "      <th>FILES_METADATA_IS_SAME</th>\n",
       "      <th>LOCAL_FILE_DOES_NOT_EXIST</th>\n",
       "      <th>REMOTE_FILE_DOES_NOT_EXIST</th>\n",
       "      <th>LOCAL_COPIES_DO_EXIST</th>\n",
       "      <th>REMOTE_COPIES_DO_EXIST</th>\n",
       "      <th>LOCAL_COPY_COUNTERPART_DOES_NOT_EXIST</th>\n",
       "      <th>REMOTE_COPY_COUNTERPART_DOES_NOT_EXIST</th>\n",
       "      <th>LOCAL_COPY_METADATA_IS_SAME</th>\n",
       "      <th>REMOTE_COPY_METADATA_IS_SAME</th>\n",
       "    </tr>\n",
       "  </thead>\n",
       "  <tbody>\n",
       "    <tr>\n",
       "      <th>count</th>\n",
       "      <td>258</td>\n",
       "      <td>258</td>\n",
       "      <td>258</td>\n",
       "      <td>258</td>\n",
       "      <td>258</td>\n",
       "      <td>258</td>\n",
       "      <td>258</td>\n",
       "      <td>258</td>\n",
       "      <td>258</td>\n",
       "      <td>258</td>\n",
       "      <td>258</td>\n",
       "      <td>258</td>\n",
       "    </tr>\n",
       "    <tr>\n",
       "      <th>unique</th>\n",
       "      <td>2</td>\n",
       "      <td>2</td>\n",
       "      <td>3</td>\n",
       "      <td>3</td>\n",
       "      <td>2</td>\n",
       "      <td>2</td>\n",
       "      <td>3</td>\n",
       "      <td>3</td>\n",
       "      <td>3</td>\n",
       "      <td>3</td>\n",
       "      <td>3</td>\n",
       "      <td>3</td>\n",
       "    </tr>\n",
       "    <tr>\n",
       "      <th>top</th>\n",
       "      <td>TRUE</td>\n",
       "      <td>TRUE</td>\n",
       "      <td>TRUE</td>\n",
       "      <td>FALSE</td>\n",
       "      <td>FALSE</td>\n",
       "      <td>FALSE</td>\n",
       "      <td>TRUE</td>\n",
       "      <td>TRUE</td>\n",
       "      <td>TRUE</td>\n",
       "      <td>TRUE</td>\n",
       "      <td>TRUE</td>\n",
       "      <td>TRUE</td>\n",
       "    </tr>\n",
       "    <tr>\n",
       "      <th>freq</th>\n",
       "      <td>172</td>\n",
       "      <td>172</td>\n",
       "      <td>150</td>\n",
       "      <td>150</td>\n",
       "      <td>240</td>\n",
       "      <td>240</td>\n",
       "      <td>192</td>\n",
       "      <td>192</td>\n",
       "      <td>96</td>\n",
       "      <td>96</td>\n",
       "      <td>96</td>\n",
       "      <td>96</td>\n",
       "    </tr>\n",
       "  </tbody>\n",
       "</table>\n",
       "</div>"
      ],
      "text/plain": [
       "       LOCAL_FILE_CHANGED REMOTE_FILE_CHANGED FILES_CONTENT_IS_SAME  \\\n",
       "count                 258                 258                   258   \n",
       "unique                  2                   2                     3   \n",
       "top                  TRUE                TRUE                  TRUE   \n",
       "freq                  172                 172                   150   \n",
       "\n",
       "       FILES_METADATA_IS_SAME LOCAL_FILE_DOES_NOT_EXIST  \\\n",
       "count                     258                       258   \n",
       "unique                      3                         2   \n",
       "top                     FALSE                     FALSE   \n",
       "freq                      150                       240   \n",
       "\n",
       "       REMOTE_FILE_DOES_NOT_EXIST LOCAL_COPIES_DO_EXIST  \\\n",
       "count                         258                   258   \n",
       "unique                          2                     3   \n",
       "top                         FALSE                  TRUE   \n",
       "freq                          240                   192   \n",
       "\n",
       "       REMOTE_COPIES_DO_EXIST LOCAL_COPY_COUNTERPART_DOES_NOT_EXIST  \\\n",
       "count                     258                                   258   \n",
       "unique                      3                                     3   \n",
       "top                      TRUE                                  TRUE   \n",
       "freq                      192                                    96   \n",
       "\n",
       "       REMOTE_COPY_COUNTERPART_DOES_NOT_EXIST LOCAL_COPY_METADATA_IS_SAME  \\\n",
       "count                                     258                         258   \n",
       "unique                                      3                           3   \n",
       "top                                      TRUE                        TRUE   \n",
       "freq                                       96                          96   \n",
       "\n",
       "       REMOTE_COPY_METADATA_IS_SAME  \n",
       "count                           258  \n",
       "unique                            3  \n",
       "top                            TRUE  \n",
       "freq                             96  "
      ]
     },
     "execution_count": 15,
     "metadata": {},
     "output_type": "execute_result"
    }
   ],
   "source": [
    "def validate(condition):\n",
    "    condition = {k: value_to_python(v) for k, v in condition.to_dict().items() if v != Value.UNDEFINED}\n",
    "    try:\n",
    "        for constraint in CONSTRAINTS:\n",
    "            constraint(condition)\n",
    "    except AssertionError:\n",
    "        return False\n",
    "    return True\n",
    "\n",
    "with dask.set_options(get=dask.multiprocessing.get), ProgressBar():\n",
    "    valid_conditions_idx = (\n",
    "        dask.dataframe.from_pandas(possible_conditions, npartitions=50)\n",
    "                      .apply(validate, axis=1, meta=(None, bool))\n",
    "                      .compute()\n",
    "    )    \n",
    "\n",
    "    \n",
    "valid_conditions = possible_conditions[valid_conditions_idx]\n",
    "valid_conditions.describe()"
   ]
  },
  {
   "cell_type": "markdown",
   "metadata": {},
   "source": [
    "## Percentage of valid conditions"
   ]
  },
  {
   "cell_type": "code",
   "execution_count": 16,
   "metadata": {},
   "outputs": [
    {
     "data": {
      "text/plain": [
       "0.048547251717500156"
      ]
     },
     "execution_count": 16,
     "metadata": {},
     "output_type": "execute_result"
    }
   ],
   "source": [
    "len(valid_conditions.index) / len(possible_conditions.index) * 100"
   ]
  },
  {
   "cell_type": "markdown",
   "metadata": {},
   "source": [
    "## Generate actions"
   ]
  },
  {
   "cell_type": "code",
   "execution_count": 17,
   "metadata": {
    "collapsed": true
   },
   "outputs": [],
   "source": [
    "actions = pd.DataFrame(columns=Action, index=valid_conditions.index)"
   ]
  },
  {
   "cell_type": "markdown",
   "metadata": {},
   "source": [
    "Actions functions are applied in round-robin fashion until they don't add anything new."
   ]
  },
  {
   "cell_type": "code",
   "execution_count": 18,
   "metadata": {
    "scrolled": true
   },
   "outputs": [
    {
     "data": {
      "text/html": [
       "<div>\n",
       "<style>\n",
       "    .dataframe thead tr:only-child th {\n",
       "        text-align: right;\n",
       "    }\n",
       "\n",
       "    .dataframe thead th {\n",
       "        text-align: left;\n",
       "    }\n",
       "\n",
       "    .dataframe tbody tr th {\n",
       "        vertical-align: top;\n",
       "    }\n",
       "</style>\n",
       "<table border=\"1\" class=\"dataframe\">\n",
       "  <thead>\n",
       "    <tr style=\"text-align: right;\">\n",
       "      <th></th>\n",
       "      <th>DOWNLOAD_REMOTE_FILE</th>\n",
       "      <th>UPLOAD_LOCAL_FILE</th>\n",
       "      <th>DELETE_REMOTE_FILE</th>\n",
       "      <th>DELETE_LOCAL_FILE</th>\n",
       "      <th>UPDATE_LOCAL_FILE_METADATA</th>\n",
       "      <th>UPDATE_REMOTE_FILE_METADATA</th>\n",
       "      <th>RENAME_LOCAL_FILE</th>\n",
       "      <th>COPY_LOCAL_FILE</th>\n",
       "      <th>COPY_REMOTE_FILE</th>\n",
       "      <th>MOVE_LOCAL_FILE</th>\n",
       "      <th>MOVE_REMOTE_FILE</th>\n",
       "      <th>DO_NOTHING</th>\n",
       "    </tr>\n",
       "  </thead>\n",
       "  <tbody>\n",
       "    <tr>\n",
       "      <th>count</th>\n",
       "      <td>258</td>\n",
       "      <td>258</td>\n",
       "      <td>258</td>\n",
       "      <td>258</td>\n",
       "      <td>258</td>\n",
       "      <td>258</td>\n",
       "      <td>258</td>\n",
       "      <td>258</td>\n",
       "      <td>258</td>\n",
       "      <td>258</td>\n",
       "      <td>258</td>\n",
       "      <td>258</td>\n",
       "    </tr>\n",
       "    <tr>\n",
       "      <th>unique</th>\n",
       "      <td>3</td>\n",
       "      <td>3</td>\n",
       "      <td>3</td>\n",
       "      <td>3</td>\n",
       "      <td>3</td>\n",
       "      <td>3</td>\n",
       "      <td>3</td>\n",
       "      <td>3</td>\n",
       "      <td>3</td>\n",
       "      <td>3</td>\n",
       "      <td>3</td>\n",
       "      <td>2</td>\n",
       "    </tr>\n",
       "    <tr>\n",
       "      <th>top</th>\n",
       "      <td>FALSE</td>\n",
       "      <td>FALSE</td>\n",
       "      <td>FALSE</td>\n",
       "      <td>FALSE</td>\n",
       "      <td>FALSE</td>\n",
       "      <td>FALSE</td>\n",
       "      <td>FALSE</td>\n",
       "      <td>FALSE</td>\n",
       "      <td>FALSE</td>\n",
       "      <td>UNDEFINED</td>\n",
       "      <td>FALSE</td>\n",
       "      <td>UNDEFINED</td>\n",
       "    </tr>\n",
       "    <tr>\n",
       "      <th>freq</th>\n",
       "      <td>168</td>\n",
       "      <td>174</td>\n",
       "      <td>175</td>\n",
       "      <td>175</td>\n",
       "      <td>96</td>\n",
       "      <td>138</td>\n",
       "      <td>125</td>\n",
       "      <td>107</td>\n",
       "      <td>156</td>\n",
       "      <td>127</td>\n",
       "      <td>156</td>\n",
       "      <td>180</td>\n",
       "    </tr>\n",
       "  </tbody>\n",
       "</table>\n",
       "</div>"
      ],
      "text/plain": [
       "       DOWNLOAD_REMOTE_FILE UPLOAD_LOCAL_FILE DELETE_REMOTE_FILE  \\\n",
       "count                   258               258                258   \n",
       "unique                    3                 3                  3   \n",
       "top                   FALSE             FALSE              FALSE   \n",
       "freq                    168               174                175   \n",
       "\n",
       "       DELETE_LOCAL_FILE UPDATE_LOCAL_FILE_METADATA  \\\n",
       "count                258                        258   \n",
       "unique                 3                          3   \n",
       "top                FALSE                      FALSE   \n",
       "freq                 175                         96   \n",
       "\n",
       "       UPDATE_REMOTE_FILE_METADATA RENAME_LOCAL_FILE COPY_LOCAL_FILE  \\\n",
       "count                          258               258             258   \n",
       "unique                           3                 3               3   \n",
       "top                          FALSE             FALSE           FALSE   \n",
       "freq                           138               125             107   \n",
       "\n",
       "       COPY_REMOTE_FILE MOVE_LOCAL_FILE MOVE_REMOTE_FILE DO_NOTHING  \n",
       "count               258             258              258        258  \n",
       "unique                3               3                3          2  \n",
       "top               FALSE       UNDEFINED            FALSE  UNDEFINED  \n",
       "freq                156             127              156        180  "
      ]
     },
     "execution_count": 18,
     "metadata": {},
     "output_type": "execute_result"
    }
   ],
   "source": [
    "for row in valid_conditions.itertuples():\n",
    "    i = row[0]\n",
    "    rule = row[1:]\n",
    "    \n",
    "    rule = {\n",
    "        k: value_to_python(v) \n",
    "        for k, v in zip(Condition, rule) \n",
    "        if v is not Value.UNDEFINED\n",
    "    }\n",
    "    while True:\n",
    "        keys = list(rule.keys())\n",
    "        for action in ACTIONS:\n",
    "            try:\n",
    "                result = action(frozendict(rule))\n",
    "            except AssertionError as exc:\n",
    "                raise AssertionError(action.__name__, rule, exc)\n",
    "\n",
    "            if result is None:\n",
    "                continue\n",
    "        \n",
    "            for k, v in result.items():\n",
    "                if k in rule:\n",
    "                    assert rule[k] == result[k], (action.__name__, k, rule[k], result[k], rule)\n",
    "                \n",
    "            rule.update(result)\n",
    "        if len(rule.keys()) == len(keys):\n",
    "            break\n",
    "            \n",
    "    action = {\n",
    "        a: value_from_python(rule[a]) for a in Action if a in rule \n",
    "    }\n",
    "    if not action:\n",
    "        continue\n",
    "   \n",
    "    actions.loc[i] = action\n",
    "\n",
    "actions.describe()"
   ]
  },
  {
   "cell_type": "markdown",
   "metadata": {},
   "source": [
    "## Percentage of defined actions"
   ]
  },
  {
   "cell_type": "code",
   "execution_count": 19,
   "metadata": {},
   "outputs": [
    {
     "data": {
      "text/plain": [
       "100.0"
      ]
     },
     "execution_count": 19,
     "metadata": {},
     "output_type": "execute_result"
    }
   ],
   "source": [
    "actions.count().sum() / ft.reduce(op.mul, actions.shape) * 100"
   ]
  },
  {
   "cell_type": "markdown",
   "metadata": {},
   "source": [
    "## Percentage of fully defined actions"
   ]
  },
  {
   "cell_type": "code",
   "execution_count": 20,
   "metadata": {},
   "outputs": [
    {
     "data": {
      "text/plain": [
       "100.0"
      ]
     },
     "execution_count": 20,
     "metadata": {},
     "output_type": "execute_result"
    }
   ],
   "source": [
    "actions.dropna().shape[0] / actions.shape[0] * 100"
   ]
  },
  {
   "cell_type": "markdown",
   "metadata": {},
   "source": [
    "## Rules with missing actions"
   ]
  },
  {
   "cell_type": "code",
   "execution_count": 21,
   "metadata": {},
   "outputs": [],
   "source": [
    "rules = valid_conditions.join(actions)"
   ]
  },
  {
   "cell_type": "code",
   "execution_count": 22,
   "metadata": {},
   "outputs": [
    {
     "name": "stdout",
     "output_type": "stream",
     "text": [
      "N/A\n"
     ]
    }
   ],
   "source": [
    "rules_with_missing_actions = rules[actions.isnull().sum(axis=1) > 0]\n",
    "if len(rules_with_missing_actions.index) > 0:\n",
    "    print(rules_with_missing_actions.T)\n",
    "else:\n",
    "    print('N/A')"
   ]
  },
  {
   "cell_type": "markdown",
   "metadata": {},
   "source": [
    "## Unique actions"
   ]
  },
  {
   "cell_type": "code",
   "execution_count": 23,
   "metadata": {},
   "outputs": [
    {
     "data": {
      "text/plain": [
       "23"
      ]
     },
     "execution_count": 23,
     "metadata": {},
     "output_type": "execute_result"
    }
   ],
   "source": [
    "len(rules[list(Action)].drop_duplicates().index)"
   ]
  },
  {
   "cell_type": "markdown",
   "metadata": {},
   "source": [
    "## Redundancy removal"
   ]
  },
  {
   "cell_type": "markdown",
   "metadata": {},
   "source": [
    "We are not interested in `Undefined` values for the conditions and in `Undefined` and `False` for the actions."
   ]
  },
  {
   "cell_type": "code",
   "execution_count": 24,
   "metadata": {
    "collapsed": true
   },
   "outputs": [],
   "source": [
    "filtered_rules = rules.copy()\n",
    "filtered_rules[list(Condition)] = filtered_rules[list(Condition)].replace(Value.UNDEFINED, np.NaN)\n",
    "filtered_rules[list(Action)] = filtered_rules[list(Action)].replace(Value.UNDEFINED, np.NaN)\n",
    "filtered_rules[list(Action)] = filtered_rules[list(Action)].replace(Value.FALSE, np.NaN)"
   ]
  },
  {
   "cell_type": "markdown",
   "metadata": {},
   "source": [
    "Generate mappings of condition variables valeus combinations/action variables values to the corresponding indices in the rules table."
   ]
  },
  {
   "cell_type": "code",
   "execution_count": 25,
   "metadata": {},
   "outputs": [
    {
     "name": "stderr",
     "output_type": "stream",
     "text": [
      "100% (4107 of 4107) |#######################################################| Elapsed Time: 0:15:56 Time: 0:15:56\n"
     ]
    }
   ],
   "source": [
    "conditions_cases = {}\n",
    "actions_cases = {}\n",
    "\n",
    "conditions_combinations = list(all_combinations(Condition))\n",
    "actions_combinations = [(a,) for a in Action]\n",
    "\n",
    "with progressbar.ProgressBar(\n",
    "    max_value=(\n",
    "        len(conditions_combinations) +\n",
    "        len(actions_combinations)\n",
    "    ),\n",
    "    poll_interval=1\n",
    ") as bar:\n",
    "    i = 0\n",
    "    for cases, variables_combinations in [\n",
    "            (conditions_cases, conditions_combinations),\n",
    "            (actions_cases, actions_combinations)\n",
    "        ]:\n",
    "        for variable in variables_combinations:\n",
    "            for row in filtered_rules[list(variable)].drop_duplicates().itertuples():\n",
    "                values = row[1:]\n",
    "                value = frozenset((k, v) for k, v in zip(variable, values) if v is not np.NaN)\n",
    "                if len(value) == 0:\n",
    "                    continue\n",
    "                indices = filtered_rules.query(\n",
    "                    ft.reduce(\n",
    "                        lambda a, b: '%s & %s' % (a, b), \n",
    "                        ['%s == \"%s\"' % (k, v) for k, v in value]\n",
    "                    )\n",
    "                ).index\n",
    "                assert len(indices) > 0\n",
    "                cases[value] = frozenset(indices)\n",
    "            i += 1\n",
    "            bar.update(i)"
   ]
  },
  {
   "cell_type": "markdown",
   "metadata": {},
   "source": [
    "Match conditions variables values combinations to actions variables values on the basis whether with the given conditions the actions are always the same."
   ]
  },
  {
   "cell_type": "code",
   "execution_count": 26,
   "metadata": {
    "scrolled": true
   },
   "outputs": [
    {
     "name": "stderr",
     "output_type": "stream",
     "text": [
      "100% (93031 of 93031) |#####################################################| Elapsed Time: 0:00:00 Time: 0:00:00\n"
     ]
    }
   ],
   "source": [
    "matched_associations = collections.defaultdict(dict)\n",
    "\n",
    "with progressbar.ProgressBar(\n",
    "    max_value=(\n",
    "        len(conditions_cases)\n",
    "    ),\n",
    "    poll_interval=1\n",
    ") as bar:\n",
    "    i = 0\n",
    "    for independent_variable_case, indices1 in conditions_cases.items():\n",
    "        for dependent_variable_case, indices2 in actions_cases.items():\n",
    "            assert indices1\n",
    "            assert indices2\n",
    "            if indices1 <= indices2:\n",
    "                safe_update(\n",
    "                    matched_associations[independent_variable_case],\n",
    "                    dict(dependent_variable_case)\n",
    "                )\n",
    "        if independent_variable_case in matched_associations: \n",
    "            matched_associations[independent_variable_case] = frozenset(\n",
    "                matched_associations[independent_variable_case].items()\n",
    "            )\n",
    "        \n",
    "        i += 1\n",
    "        bar.update(i)"
   ]
  },
  {
   "cell_type": "code",
   "execution_count": 27,
   "metadata": {},
   "outputs": [
    {
     "data": {
      "text/plain": [
       "50533"
      ]
     },
     "execution_count": 27,
     "metadata": {},
     "output_type": "execute_result"
    }
   ],
   "source": [
    "len(matched_associations)"
   ]
  },
  {
   "cell_type": "markdown",
   "metadata": {},
   "source": [
    "Remove conditions/actions pairs with redundant conditions variables, that do not affect actions in comparison with the other conditions with smaller number of variables that result in the same actions.\n",
    "Also remove rules that could be deduced from the other smaller rules."
   ]
  },
  {
   "cell_type": "code",
   "execution_count": 28,
   "metadata": {},
   "outputs": [
    {
     "name": "stderr",
     "output_type": "stream",
     "text": [
      "100% (50533 of 50533) |#####################################################| Elapsed Time: 0:00:02 Time: 0:00:02\n",
      "100% (50533 of 50533) |#####################################################| Elapsed Time: 0:00:02 Time: 0:00:02\n"
     ]
    }
   ],
   "source": [
    "compacted_associations = collections.defaultdict(set)\n",
    "\n",
    "with progressbar.ProgressBar() as bar:\n",
    "    for i, (conditions_case1, actions_case1) in enumerate(bar(list(matched_associations.items()))):\n",
    "        # If the current conditions are a superset of some other conditions - skip them.\n",
    "        try:\n",
    "            for conditions_case2, actions_case2 in matched_associations.items():\n",
    "                if conditions_case2 is conditions_case1:\n",
    "                    continue\n",
    "                if (conditions_case2 < conditions_case1 and\n",
    "                    actions_case2 >= actions_case1):\n",
    "                    raise RuntimeError\n",
    "        except RuntimeError:\n",
    "            continue\n",
    "        # Try to \"assemble\" the current conditions and actions from the other ones.\n",
    "        # In case of success - we don't need the current conditions/actions \n",
    "        # since they are redundant.\n",
    "        matched_conditions = set()\n",
    "        matched_actions = set()\n",
    "        for conditions_case2, actions_case2 in matched_associations.items():\n",
    "            if conditions_case2 is conditions_case1:\n",
    "                continue\n",
    "            if not (conditions_case2 < conditions_case1):\n",
    "                continue\n",
    "            matched_conditions.update(conditions_case2)\n",
    "            matched_actions.update(actions_case2)\n",
    "        if not (matched_conditions == conditions_case1 and\n",
    "                matched_actions == actions_case1):\n",
    "            compacted_associations[conditions_case1] = actions_case1            "
   ]
  },
  {
   "cell_type": "markdown",
   "metadata": {},
   "source": [
    "Find out which conditions variables also take the same values when the conditions in the resulting rules take place."
   ]
  },
  {
   "cell_type": "code",
   "execution_count": 29,
   "metadata": {},
   "outputs": [
    {
     "name": "stderr",
     "output_type": "stream",
     "text": [
      "100% (60 of 60) |###########################################################| Elapsed Time: 0:00:01 Time: 0:00:01\n",
      "100% (60 of 60) |###########################################################| Elapsed Time: 0:00:01 Time: 0:00:01\n"
     ]
    }
   ],
   "source": [
    "completed_associations = collections.defaultdict(dict)\n",
    "\n",
    "with progressbar.ProgressBar() as bar:\n",
    "    for conditions1, actions in bar(list(compacted_associations.items())):\n",
    "        new_conditions = dict(conditions1)\n",
    "        for conditions2, indices in conditions_cases.items():\n",
    "            if conditions_cases[conditions1] == indices:\n",
    "                safe_update(new_conditions, dict(conditions2))\n",
    "        matched_rules = filtered_rules[list(Condition)].query(\n",
    "            ft.reduce(\n",
    "                lambda a, b: '%s & %s' % (a, b), \n",
    "                ['%s == \"%s\"' % (k, v) for k, v in new_conditions.items()]\n",
    "            )\n",
    "        ).to_dict('list')\n",
    "        matched_rules = {k: v[0] for k, v in matched_rules.items() if len(set(v)) == 1}\n",
    "        matched_rules = {k: v for k, v in matched_rules.items() if v is not np.nan}\n",
    "        safe_update(\n",
    "            new_conditions, \n",
    "            matched_rules\n",
    "        )\n",
    "\n",
    "        safe_update(completed_associations[frozenset(new_conditions.items())], dict(actions))"
   ]
  },
  {
   "cell_type": "code",
   "execution_count": 30,
   "metadata": {},
   "outputs": [
    {
     "data": {
      "text/plain": [
       "60"
      ]
     },
     "execution_count": 30,
     "metadata": {},
     "output_type": "execute_result"
    }
   ],
   "source": [
    "len(completed_associations)"
   ]
  },
  {
   "cell_type": "markdown",
   "metadata": {},
   "source": [
    "Remove rules that have conditions that are supersets to the others' rules conditions and that have actions that don't add anything new."
   ]
  },
  {
   "cell_type": "code",
   "execution_count": 31,
   "metadata": {},
   "outputs": [
    {
     "name": "stderr",
     "output_type": "stream",
     "text": [
      "100% (60 of 60) |###########################################################| Elapsed Time: 0:00:00 Time: 0:00:00\n",
      "100% (60 of 60) |###########################################################| Elapsed Time: 0:00:00 Time: 0:00:00\n"
     ]
    }
   ],
   "source": [
    "associations = {}\n",
    "\n",
    "with progressbar.ProgressBar() as bar:\n",
    "    for conditions1, actions1 in bar(list(completed_associations.items())):\n",
    "        try:\n",
    "            for i, (conditions2, actions2) in enumerate(completed_associations.items()):\n",
    "                if conditions2 is conditions1:\n",
    "                    continue\n",
    "                if (conditions2 < conditions1 and\n",
    "                    set(actions2.items()) >= set(actions1.items())):\n",
    "                    raise RuntimeError\n",
    "        except RuntimeError:\n",
    "            continue\n",
    "        assert i > 0\n",
    "                \n",
    "        associations[frozenset(conditions1)] = actions1      "
   ]
  },
  {
   "cell_type": "code",
   "execution_count": 32,
   "metadata": {
    "collapsed": true
   },
   "outputs": [],
   "source": [
    "associations = dict(associations)"
   ]
  },
  {
   "cell_type": "code",
   "execution_count": 33,
   "metadata": {},
   "outputs": [
    {
     "data": {
      "text/plain": [
       "28"
      ]
     },
     "execution_count": 33,
     "metadata": {},
     "output_type": "execute_result"
    }
   ],
   "source": [
    "len(associations)"
   ]
  },
  {
   "cell_type": "code",
   "execution_count": 34,
   "metadata": {
    "collapsed": true
   },
   "outputs": [],
   "source": [
    "# associations = {frozenset(k): dict(v) for k, v in yaml.load( \n",
    "#     open('./associations.yml', 'r'),\n",
    "#     Loader=yaml.CSafeLoader\n",
    "# ).items}"
   ]
  },
  {
   "cell_type": "code",
   "execution_count": 35,
   "metadata": {
    "collapsed": true
   },
   "outputs": [],
   "source": [
    "yaml.dump(\n",
    "    {tuple(k): dict(v) for k, v in associations.items()}, \n",
    "    open('./associations.yml', 'w'),\n",
    "    default_flow_style=False,\n",
    "    Dumper=yaml.CSafeDumper\n",
    ")"
   ]
  },
  {
   "cell_type": "markdown",
   "metadata": {},
   "source": [
    "## Validate the associations against the actual \"dumb\" rules"
   ]
  },
  {
   "cell_type": "code",
   "execution_count": 36,
   "metadata": {},
   "outputs": [
    {
     "name": "stderr",
     "output_type": "stream",
     "text": [
      "100% (258 of 258) |#########################################################| Elapsed Time: 0:00:00 Time: 0:00:00\n",
      "100% (258 of 258) |#########################################################| Elapsed Time: 0:00:00 Time: 0:00:00\n"
     ]
    }
   ],
   "source": [
    "with progressbar.ProgressBar() as bar:\n",
    "    for actual_case in bar(filtered_rules.to_dict('records')):\n",
    "        conditions_case = frozenset([\n",
    "            (k, v) for k, v in actual_case.items() \n",
    "            if k in Condition and v is not np.nan\n",
    "        ])\n",
    "        actions_case = frozenset([\n",
    "            (k, v) for k, v in actual_case.items() \n",
    "            if k in Action and v is not np.nan\n",
    "        ])\n",
    "\n",
    "        matched_condition = set()\n",
    "        matched_action = set()\n",
    "\n",
    "        for condition, action in associations.items():\n",
    "            action = frozenset(action.items())\n",
    "            assert len(condition) > 0\n",
    "            assert len(action) > 0\n",
    "            if condition <= conditions_case:\n",
    "                assert action <= actions_case, (condition, conditions_case, action, actions_case)\n",
    "                matched_condition.update(condition)\n",
    "                matched_action.update(action)\n",
    "\n",
    "        assert matched_condition <= conditions_case, (matched_condition, conditions_case)\n",
    "        assert matched_action == actions_case, {'matched_condition': matched_condition, 'conditions_case': conditions_case, 'matched_action': matched_action, 'actions_case': actions_case}"
   ]
  },
  {
   "cell_type": "code",
   "execution_count": 37,
   "metadata": {},
   "outputs": [
    {
     "name": "stderr",
     "output_type": "stream",
     "text": [
      "100% (28 of 28) |###########################################################| Elapsed Time: 0:00:00 Time: 0:00:00\n",
      "100% (28 of 28) |###########################################################| Elapsed Time: 0:00:00 Time: 0:00:00\n"
     ]
    }
   ],
   "source": [
    "with progressbar.ProgressBar() as bar:\n",
    "    for conditions, actions in bar(list(associations.items())):\n",
    "        index1 = filtered_rules.query(\n",
    "            ft.reduce(\n",
    "                lambda a, b: '%s & %s' % (a, b), \n",
    "                ['%s == \"%s\"' % (k, v) for k, v in conditions]\n",
    "            )\n",
    "        ).index\n",
    "        index2 = filtered_rules.query(\n",
    "            ft.reduce(\n",
    "                lambda a, b: '%s & %s' % (a, b), \n",
    "                ['%s == \"%s\"' % (k, v) for k, v in it.chain(conditions, actions.items())]\n",
    "            )\n",
    "        ).index\n",
    "        assert set(index1) == set(index2)"
   ]
  },
  {
   "cell_type": "markdown",
   "metadata": {},
   "source": [
    "## Represent the rules"
   ]
  },
  {
   "cell_type": "code",
   "execution_count": 38,
   "metadata": {
    "collapsed": true
   },
   "outputs": [],
   "source": [
    "import tabulate\n",
    "from IPython.core.display import display, HTML"
   ]
  },
  {
   "cell_type": "code",
   "execution_count": 47,
   "metadata": {},
   "outputs": [],
   "source": [
    "table = [list(it.chain(list(Condition), list(Action)))]\n",
    "table.extend(sorted([\n",
    "    list(it.chain(\n",
    "        [dict(conditions).get(c, '') for c in Condition],\n",
    "        [actions.get(a, '') for a in Action]\n",
    "    ))\n",
    "    for conditions, actions in associations.items()\n",
    "]))\n",
    "table = list(zip(*table))\n",
    "table.insert(0, [''] + list(map(str, range(len(table[0]) - 1))))\n",
    "table.insert(1, ['Conditions'] + ['*'] * (len(table[0]) - 1))\n",
    "table.insert(len(Condition) + 1, ['Actions'] + ['*'] * (len(table[0]) - 1))"
   ]
  },
  {
   "cell_type": "code",
   "execution_count": 48,
   "metadata": {},
   "outputs": [
    {
     "data": {
      "text/html": [
       "<table>\n",
       "<tbody>\n",
       "<tr><td>                                      </td><td>0   </td><td>1    </td><td>2    </td><td>3    </td><td>4    </td><td>5    </td><td>6    </td><td>7    </td><td>8    </td><td>9    </td><td>10   </td><td>11   </td><td>12   </td><td>13   </td><td>14   </td><td>15   </td><td>16   </td><td>17   </td><td>18   </td><td>19   </td><td>20   </td><td>21   </td><td>22   </td><td>23   </td><td>24   </td><td>25   </td><td>26   </td><td>27   </td></tr>\n",
       "<tr><td>Conditions                            </td><td>*   </td><td>*    </td><td>*    </td><td>*    </td><td>*    </td><td>*    </td><td>*    </td><td>*    </td><td>*    </td><td>*    </td><td>*    </td><td>*    </td><td>*    </td><td>*    </td><td>*    </td><td>*    </td><td>*    </td><td>*    </td><td>*    </td><td>*    </td><td>*    </td><td>*    </td><td>*    </td><td>*    </td><td>*    </td><td>*    </td><td>*    </td><td>*    </td></tr>\n",
       "<tr><td>LOCAL_FILE_CHANGED                    </td><td>    </td><td>     </td><td>     </td><td>     </td><td>     </td><td>     </td><td>     </td><td>     </td><td>     </td><td>     </td><td>     </td><td>     </td><td>FALSE</td><td>TRUE </td><td>TRUE </td><td>TRUE </td><td>TRUE </td><td>TRUE </td><td>TRUE </td><td>TRUE </td><td>TRUE </td><td>TRUE </td><td>TRUE </td><td>TRUE </td><td>TRUE </td><td>TRUE </td><td>TRUE </td><td>TRUE </td></tr>\n",
       "<tr><td>REMOTE_FILE_CHANGED                   </td><td>    </td><td>     </td><td>TRUE </td><td>TRUE </td><td>TRUE </td><td>TRUE </td><td>TRUE </td><td>TRUE </td><td>TRUE </td><td>TRUE </td><td>TRUE </td><td>TRUE </td><td>TRUE </td><td>FALSE</td><td>FALSE</td><td>FALSE</td><td>FALSE</td><td>FALSE</td><td>FALSE</td><td>FALSE</td><td>FALSE</td><td>FALSE</td><td>FALSE</td><td>FALSE</td><td>TRUE </td><td>TRUE </td><td>TRUE </td><td>TRUE </td></tr>\n",
       "<tr><td>FILES_CONTENT_IS_SAME                 </td><td>    </td><td>TRUE </td><td>     </td><td>     </td><td>     </td><td>     </td><td>     </td><td>     </td><td>FALSE</td><td>FALSE</td><td>FALSE</td><td>TRUE </td><td>     </td><td>     </td><td>     </td><td>     </td><td>     </td><td>     </td><td>     </td><td>     </td><td>FALSE</td><td>FALSE</td><td>FALSE</td><td>TRUE </td><td>     </td><td>     </td><td>     </td><td>TRUE </td></tr>\n",
       "<tr><td>FILES_METADATA_IS_SAME                </td><td>    </td><td>TRUE </td><td>     </td><td>     </td><td>     </td><td>     </td><td>FALSE</td><td>FALSE</td><td>FALSE</td><td>FALSE</td><td>FALSE</td><td>FALSE</td><td>     </td><td>     </td><td>     </td><td>     </td><td>     </td><td>     </td><td>FALSE</td><td>FALSE</td><td>FALSE</td><td>FALSE</td><td>FALSE</td><td>FALSE</td><td>     </td><td>FALSE</td><td>FALSE</td><td>FALSE</td></tr>\n",
       "<tr><td>LOCAL_FILE_DOES_NOT_EXIST             </td><td>TRUE</td><td>FALSE</td><td>TRUE </td><td>TRUE </td><td>TRUE </td><td>TRUE </td><td>FALSE</td><td>FALSE</td><td>FALSE</td><td>FALSE</td><td>FALSE</td><td>FALSE</td><td>FALSE</td><td>FALSE</td><td>FALSE</td><td>FALSE</td><td>FALSE</td><td>TRUE </td><td>FALSE</td><td>FALSE</td><td>FALSE</td><td>FALSE</td><td>FALSE</td><td>FALSE</td><td>FALSE</td><td>FALSE</td><td>FALSE</td><td>FALSE</td></tr>\n",
       "<tr><td>REMOTE_FILE_DOES_NOT_EXIST            </td><td>TRUE</td><td>FALSE</td><td>FALSE</td><td>FALSE</td><td>FALSE</td><td>FALSE</td><td>FALSE</td><td>FALSE</td><td>FALSE</td><td>FALSE</td><td>FALSE</td><td>FALSE</td><td>TRUE </td><td>TRUE </td><td>TRUE </td><td>TRUE </td><td>TRUE </td><td>FALSE</td><td>FALSE</td><td>FALSE</td><td>FALSE</td><td>FALSE</td><td>FALSE</td><td>FALSE</td><td>TRUE </td><td>FALSE</td><td>FALSE</td><td>FALSE</td></tr>\n",
       "<tr><td>LOCAL_COPIES_DO_EXIST                 </td><td>    </td><td>     </td><td>FALSE</td><td>TRUE </td><td>TRUE </td><td>TRUE </td><td>FALSE</td><td>TRUE </td><td>FALSE</td><td>TRUE </td><td>TRUE </td><td>     </td><td>     </td><td>     </td><td>     </td><td>     </td><td>     </td><td>     </td><td>     </td><td>     </td><td>     </td><td>     </td><td>     </td><td>     </td><td>     </td><td>     </td><td>TRUE </td><td>     </td></tr>\n",
       "<tr><td>REMOTE_COPIES_DO_EXIST                </td><td>    </td><td>     </td><td>     </td><td>     </td><td>     </td><td>     </td><td>     </td><td>     </td><td>     </td><td>     </td><td>     </td><td>     </td><td>     </td><td>FALSE</td><td>TRUE </td><td>TRUE </td><td>TRUE </td><td>     </td><td>FALSE</td><td>TRUE </td><td>FALSE</td><td>TRUE </td><td>TRUE </td><td>     </td><td>     </td><td>     </td><td>     </td><td>     </td></tr>\n",
       "<tr><td>LOCAL_COPY_COUNTERPART_DOES_NOT_EXIST </td><td>    </td><td>     </td><td>     </td><td>     </td><td>FALSE</td><td>TRUE </td><td>     </td><td>     </td><td>     </td><td>FALSE</td><td>TRUE </td><td>     </td><td>     </td><td>     </td><td>     </td><td>     </td><td>     </td><td>     </td><td>     </td><td>     </td><td>     </td><td>     </td><td>     </td><td>     </td><td>     </td><td>     </td><td>FALSE</td><td>     </td></tr>\n",
       "<tr><td>REMOTE_COPY_COUNTERPART_DOES_NOT_EXIST</td><td>    </td><td>     </td><td>     </td><td>     </td><td>     </td><td>     </td><td>     </td><td>     </td><td>     </td><td>     </td><td>     </td><td>     </td><td>     </td><td>     </td><td>     </td><td>FALSE</td><td>TRUE </td><td>     </td><td>     </td><td>     </td><td>     </td><td>FALSE</td><td>TRUE </td><td>     </td><td>     </td><td>     </td><td>     </td><td>     </td></tr>\n",
       "<tr><td>LOCAL_COPY_METADATA_IS_SAME           </td><td>    </td><td>     </td><td>     </td><td>FALSE</td><td>     </td><td>     </td><td>     </td><td>FALSE</td><td>     </td><td>     </td><td>     </td><td>     </td><td>     </td><td>     </td><td>     </td><td>     </td><td>     </td><td>     </td><td>     </td><td>     </td><td>     </td><td>     </td><td>     </td><td>     </td><td>     </td><td>     </td><td>     </td><td>     </td></tr>\n",
       "<tr><td>Actions                               </td><td>*   </td><td>*    </td><td>*    </td><td>*    </td><td>*    </td><td>*    </td><td>*    </td><td>*    </td><td>*    </td><td>*    </td><td>*    </td><td>*    </td><td>*    </td><td>*    </td><td>*    </td><td>*    </td><td>*    </td><td>*    </td><td>*    </td><td>*    </td><td>*    </td><td>*    </td><td>*    </td><td>*    </td><td>*    </td><td>*    </td><td>*    </td><td>*    </td></tr>\n",
       "<tr><td>REMOTE_COPY_METADATA_IS_SAME          </td><td>    </td><td>     </td><td>     </td><td>     </td><td>     </td><td>     </td><td>     </td><td>     </td><td>     </td><td>     </td><td>     </td><td>     </td><td>     </td><td>     </td><td>FALSE</td><td>     </td><td>     </td><td>     </td><td>     </td><td>FALSE</td><td>     </td><td>     </td><td>     </td><td>     </td><td>     </td><td>     </td><td>     </td><td>     </td></tr>\n",
       "<tr><td>DOWNLOAD_REMOTE_FILE                  </td><td>    </td><td>     </td><td>TRUE </td><td>     </td><td>     </td><td>     </td><td>     </td><td>     </td><td>TRUE </td><td>     </td><td>     </td><td>     </td><td>     </td><td>     </td><td>     </td><td>     </td><td>     </td><td>     </td><td>     </td><td>     </td><td>     </td><td>     </td><td>     </td><td>     </td><td>     </td><td>     </td><td>     </td><td>     </td></tr>\n",
       "<tr><td>UPLOAD_LOCAL_FILE                     </td><td>    </td><td>     </td><td>     </td><td>     </td><td>     </td><td>     </td><td>     </td><td>     </td><td>     </td><td>     </td><td>     </td><td>     </td><td>     </td><td>TRUE </td><td>     </td><td>     </td><td>     </td><td>     </td><td>     </td><td>     </td><td>TRUE </td><td>     </td><td>     </td><td>     </td><td>     </td><td>     </td><td>     </td><td>     </td></tr>\n",
       "<tr><td>DELETE_REMOTE_FILE                    </td><td>    </td><td>     </td><td>     </td><td>     </td><td>     </td><td>     </td><td>     </td><td>     </td><td>     </td><td>     </td><td>     </td><td>     </td><td>     </td><td>     </td><td>     </td><td>     </td><td>     </td><td>TRUE </td><td>     </td><td>     </td><td>     </td><td>     </td><td>     </td><td>     </td><td>     </td><td>     </td><td>     </td><td>     </td></tr>\n",
       "<tr><td>DELETE_LOCAL_FILE                     </td><td>    </td><td>     </td><td>     </td><td>     </td><td>     </td><td>     </td><td>     </td><td>     </td><td>     </td><td>     </td><td>     </td><td>     </td><td>TRUE </td><td>     </td><td>     </td><td>     </td><td>     </td><td>     </td><td>     </td><td>     </td><td>     </td><td>     </td><td>     </td><td>     </td><td>     </td><td>     </td><td>     </td><td>     </td></tr>\n",
       "<tr><td>UPDATE_LOCAL_FILE_METADATA            </td><td>    </td><td>     </td><td>     </td><td>TRUE </td><td>     </td><td>     </td><td>TRUE </td><td>TRUE </td><td>TRUE </td><td>     </td><td>     </td><td>TRUE </td><td>     </td><td>     </td><td>     </td><td>     </td><td>     </td><td>     </td><td>     </td><td>     </td><td>     </td><td>     </td><td>     </td><td>     </td><td>     </td><td>     </td><td>     </td><td>TRUE </td></tr>\n",
       "<tr><td>UPDATE_REMOTE_FILE_METADATA           </td><td>    </td><td>     </td><td>     </td><td>     </td><td>     </td><td>     </td><td>     </td><td>     </td><td>     </td><td>     </td><td>     </td><td>     </td><td>     </td><td>     </td><td>TRUE </td><td>     </td><td>     </td><td>     </td><td>TRUE </td><td>TRUE </td><td>TRUE </td><td>     </td><td>     </td><td>TRUE </td><td>     </td><td>     </td><td>     </td><td>     </td></tr>\n",
       "<tr><td>RENAME_LOCAL_FILE                     </td><td>    </td><td>     </td><td>     </td><td>     </td><td>     </td><td>     </td><td>     </td><td>     </td><td>     </td><td>     </td><td>     </td><td>     </td><td>     </td><td>     </td><td>     </td><td>     </td><td>     </td><td>     </td><td>     </td><td>     </td><td>     </td><td>     </td><td>     </td><td>     </td><td>TRUE </td><td>TRUE </td><td>TRUE </td><td>TRUE </td></tr>\n",
       "<tr><td>COPY_LOCAL_FILE                       </td><td>    </td><td>     </td><td>     </td><td>     </td><td>TRUE </td><td>     </td><td>     </td><td>     </td><td>     </td><td>TRUE </td><td>     </td><td>     </td><td>     </td><td>     </td><td>     </td><td>     </td><td>     </td><td>     </td><td>     </td><td>     </td><td>     </td><td>     </td><td>     </td><td>     </td><td>     </td><td>     </td><td>TRUE </td><td>TRUE </td></tr>\n",
       "<tr><td>COPY_REMOTE_FILE                      </td><td>    </td><td>     </td><td>     </td><td>     </td><td>     </td><td>     </td><td>     </td><td>     </td><td>     </td><td>     </td><td>     </td><td>     </td><td>     </td><td>     </td><td>     </td><td>TRUE </td><td>     </td><td>     </td><td>     </td><td>     </td><td>     </td><td>TRUE </td><td>     </td><td>     </td><td>     </td><td>     </td><td>     </td><td>     </td></tr>\n",
       "<tr><td>MOVE_LOCAL_FILE                       </td><td>    </td><td>     </td><td>     </td><td>     </td><td>     </td><td>TRUE </td><td>     </td><td>     </td><td>     </td><td>     </td><td>TRUE </td><td>     </td><td>     </td><td>     </td><td>     </td><td>     </td><td>     </td><td>     </td><td>     </td><td>     </td><td>     </td><td>     </td><td>     </td><td>     </td><td>     </td><td>     </td><td>     </td><td>     </td></tr>\n",
       "<tr><td>MOVE_REMOTE_FILE                      </td><td>    </td><td>     </td><td>     </td><td>     </td><td>     </td><td>     </td><td>     </td><td>     </td><td>     </td><td>     </td><td>     </td><td>     </td><td>     </td><td>     </td><td>     </td><td>     </td><td>TRUE </td><td>     </td><td>     </td><td>     </td><td>     </td><td>     </td><td>TRUE </td><td>     </td><td>     </td><td>     </td><td>     </td><td>     </td></tr>\n",
       "<tr><td>DO_NOTHING                            </td><td>TRUE</td><td>TRUE </td><td>     </td><td>     </td><td>     </td><td>     </td><td>     </td><td>     </td><td>     </td><td>     </td><td>     </td><td>     </td><td>     </td><td>     </td><td>     </td><td>     </td><td>     </td><td>     </td><td>     </td><td>     </td><td>     </td><td>     </td><td>     </td><td>     </td><td>     </td><td>     </td><td>     </td><td>     </td></tr>\n",
       "</tbody>\n",
       "</table>"
      ],
      "text/plain": [
       "<IPython.core.display.HTML object>"
      ]
     },
     "metadata": {},
     "output_type": "display_data"
    }
   ],
   "source": [
    "display(HTML(tabulate.tabulate(table, tablefmt='html')))"
   ]
  },
  {
   "cell_type": "code",
   "execution_count": 50,
   "metadata": {},
   "outputs": [],
   "source": [
    "# open('rules.rst', 'w').write(tabulate.tabulate(table, tablefmt='rst'))"
   ]
  }
 ],
 "metadata": {
  "anaconda-cloud": {},
  "kernelspec": {
   "display_name": "Python 3",
   "language": "python",
   "name": "python3"
  },
  "language_info": {
   "codemirror_mode": {
    "name": "ipython",
    "version": 3
   },
   "file_extension": ".py",
   "mimetype": "text/x-python",
   "name": "python",
   "nbconvert_exporter": "python",
   "pygments_lexer": "ipython3",
   "version": "3.6.1"
  }
 },
 "nbformat": 4,
 "nbformat_minor": 1
}
